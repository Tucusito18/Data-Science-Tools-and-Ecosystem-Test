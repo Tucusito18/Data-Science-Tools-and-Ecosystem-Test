{
 "cells": [
  {
   "cell_type": "markdown",
   "id": "4338d34f",
   "metadata": {},
   "source": [
    "# Data Science Tools and Ecosystem"
   ]
  },
  {
   "cell_type": "markdown",
   "id": "167f775b",
   "metadata": {},
   "source": [
    "# In this notebook, Data Science Tools and Ecosystems are summarized. "
   ]
  },
  {
   "cell_type": "code",
   "execution_count": null,
   "id": "d8c84390",
   "metadata": {},
   "outputs": [],
   "source": []
  },
  {
   "cell_type": "markdown",
   "id": "5990ed66",
   "metadata": {},
   "source": [
    "# Data Science Languages\n",
    "1. R\n",
    "2. Python\n",
    "3. Scala\n",
    "4. Julia"
   ]
  },
  {
   "cell_type": "markdown",
   "id": "777e50d9",
   "metadata": {},
   "source": [
    "# Data Science Libraries\n",
    "1. Pandas\n",
    "2. Matplotlib\n",
    "3. Seaborn\n",
    "4. Scikit-learn\n",
    "5. Keras\n",
    "6. Tensor Flow"
   ]
  },
  {
   "cell_type": "markdown",
   "id": "ebf42f5b",
   "metadata": {},
   "source": [
    "## Data Science Tools\n",
    "\n",
    "| Data Science Tools | |\n",
    "| -------------| ------ |\n",
    "| MySQL | |\n",
    "| MongoDB |  |\n",
    "| Pixie Dust |  |\n",
    "| Github |     |"
   ]
  },
  {
   "cell_type": "markdown",
   "id": "5b444a43",
   "metadata": {},
   "source": [
    "### Aritmethic Expressions\n",
    "\n",
    "x = 10\n",
    "x + 10"
   ]
  },
  {
   "cell_type": "code",
   "execution_count": 3,
   "id": "22f070c7",
   "metadata": {},
   "outputs": [
    {
     "data": {
      "text/plain": [
       "45"
      ]
     },
     "execution_count": 3,
     "metadata": {},
     "output_type": "execute_result"
    }
   ],
   "source": [
    "(4*10)+5"
   ]
  },
  {
   "cell_type": "code",
   "execution_count": 4,
   "id": "20c44651",
   "metadata": {},
   "outputs": [
    {
     "data": {
      "text/plain": [
       "15.0"
      ]
     },
     "execution_count": 4,
     "metadata": {},
     "output_type": "execute_result"
    }
   ],
   "source": [
    "(10/2)+10"
   ]
  },
  {
   "cell_type": "code",
   "execution_count": 5,
   "id": "a2d7116a",
   "metadata": {},
   "outputs": [
    {
     "data": {
      "text/plain": [
       "100"
      ]
     },
     "execution_count": 5,
     "metadata": {},
     "output_type": "execute_result"
    }
   ],
   "source": [
    "99+1"
   ]
  },
  {
   "cell_type": "markdown",
   "id": "57b4119a",
   "metadata": {},
   "source": [
    "### Multiply and Add Numbers \n",
    "\n",
    "2+2"
   ]
  },
  {
   "cell_type": "code",
   "execution_count": 6,
   "id": "9ab6b45f",
   "metadata": {},
   "outputs": [
    {
     "data": {
      "text/plain": [
       "11"
      ]
     },
     "execution_count": 6,
     "metadata": {},
     "output_type": "execute_result"
    }
   ],
   "source": [
    "4+4+5-2"
   ]
  },
  {
   "cell_type": "code",
   "execution_count": 7,
   "id": "c6a0e8ee",
   "metadata": {},
   "outputs": [
    {
     "data": {
      "text/plain": [
       "8"
      ]
     },
     "execution_count": 7,
     "metadata": {},
     "output_type": "execute_result"
    }
   ],
   "source": [
    "2*4"
   ]
  },
  {
   "cell_type": "code",
   "execution_count": 1,
   "id": "548ee3f1",
   "metadata": {},
   "outputs": [
    {
     "data": {
      "text/plain": [
       "16"
      ]
     },
     "execution_count": 1,
     "metadata": {},
     "output_type": "execute_result"
    }
   ],
   "source": [
    "4*4"
   ]
  },
  {
   "cell_type": "code",
   "execution_count": 2,
   "id": "3a7f36ce",
   "metadata": {},
   "outputs": [
    {
     "name": "stdout",
     "output_type": "stream",
     "text": [
      "200 minutes = 3 hours and 20 minutes.\n",
      "\n"
     ]
    }
   ],
   "source": [
    "input_minutes = 200\n",
    "\n",
    "# conversion \n",
    "\n",
    "hours = input_minutes // 60\n",
    "left_minutes = input_minutes % 60\n",
    "print(f\"{input_minutes} minutes = {hours} hours and {left_minutes} minutes.\\n\")"
   ]
  },
  {
   "cell_type": "markdown",
   "id": "ce53771f",
   "metadata": {},
   "source": [
    "### Objectives list: The objectives covered in this book are: \n",
    "- Data science languages\n",
    "- Data science libraries\n",
    "- Data science tools\n",
    "- Aritmethic expressions\n",
    "- Multiply and add numbers "
   ]
  },
  {
   "cell_type": "markdown",
   "id": "dfd1d5f0",
   "metadata": {},
   "source": [
    "## Author's Name\n",
    "Exeario Boscan "
   ]
  }
 ],
 "metadata": {
  "kernelspec": {
   "display_name": "Python 3",
   "language": "python",
   "name": "python3"
  },
  "language_info": {
   "codemirror_mode": {
    "name": "ipython",
    "version": 3
   },
   "file_extension": ".py",
   "mimetype": "text/x-python",
   "name": "python",
   "nbconvert_exporter": "python",
   "pygments_lexer": "ipython3",
   "version": "3.8.8"
  }
 },
 "nbformat": 4,
 "nbformat_minor": 5
}
